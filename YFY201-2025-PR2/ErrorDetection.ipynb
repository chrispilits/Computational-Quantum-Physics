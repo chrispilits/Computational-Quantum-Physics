{
 "cells": [
  {
   "cell_type": "markdown",
   "id": "0446dc3c-1b5d-446e-b231-f528c187bef6",
   "metadata": {},
   "source": [
    "## <span style=\"color:red\">Error in the dataset Higgs_8K.csv</span>\n",
    "\n",
    "#### After running the code to implement the Machine Learning algorithms for each classifier\n",
    "#### An error message appeared---> ValueError: could not convert string to float: '0.000000000000000000e+00.1'\n",
    "#### I used the following algorithm to detect the error. I found it appeared only once,so i just eliminated the corresponding row from the dataset.\n",
    "#### After this elimination, the algorithms were running without problems.\n",
    "\n"
   ]
  },
  {
   "cell_type": "code",
   "execution_count": 5,
   "id": "f7c9f1de-3e72-49d1-9a66-79f8093c2308",
   "metadata": {},
   "outputs": [
    {
     "name": "stdout",
     "output_type": "stream",
     "text": [
      "Total invalid float entries: 1\n",
      "1. Row 0, Column 17: 0.000000000000000000e+00.1\n"
     ]
    }
   ],
   "source": [
    "import pandas as pd\n",
    "\n",
    "# Loading the dataset Higgs_8K\n",
    "df = pd.read_csv(r\"C:\\Users\\Asus\\Desktop\\HIGGS_8K.csv\",header=None)\n",
    "\n",
    "# We define a function that checks if x can be converted to a float number. Strings cannot be converted to float numbers with float()!\n",
    "def is_invalid_float(x):\n",
    "    try:\n",
    "        float(x)\n",
    "        return False\n",
    "    except (ValueError, TypeError):\n",
    "        return True\n",
    "\n",
    "# We initialize counter and location tracker\n",
    "invalid_entries = 0\n",
    "invalid_cells = []\n",
    "\n",
    "# We iterate over all columns and rows\n",
    "for col in df.columns:\n",
    "    for i, val in df[col].items():\n",
    "        if is_invalid_float(val):\n",
    "            invalid_entries += 1\n",
    "            invalid_cells.append((i, col, val))\n",
    "\n",
    "# We report results\n",
    "print(f\"Total invalid float entries: {invalid_entries}\")\n",
    "\n",
    "# We print the invalid cells\n",
    "for i, (row, col, val) in enumerate(invalid_cells[:]):\n",
    "    print(f\"{i+1}. Row {row}, Column {col}: {val}\")\n"
   ]
  }
 ],
 "metadata": {
  "kernelspec": {
   "display_name": "Python 3 (ipykernel)",
   "language": "python",
   "name": "python3"
  },
  "language_info": {
   "codemirror_mode": {
    "name": "ipython",
    "version": 3
   },
   "file_extension": ".py",
   "mimetype": "text/x-python",
   "name": "python",
   "nbconvert_exporter": "python",
   "pygments_lexer": "ipython3",
   "version": "3.13.5"
  }
 },
 "nbformat": 4,
 "nbformat_minor": 5
}
